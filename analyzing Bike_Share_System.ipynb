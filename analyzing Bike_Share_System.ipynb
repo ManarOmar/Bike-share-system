{
 "cells": [
  {
   "cell_type": "markdown",
   "metadata": {},
   "source": [
    "# 2016 US Bike Share Activity Snapshot\n",
    "\n",
    "## Table of Contents\n",
    "- [Introduction](#intro)\n",
    "- [Posing Questions](#pose_questions)\n",
    "- [Data Collection and Wrangling](#wrangling)\n",
    "  - [Condensing the Trip Data](#condensing)\n",
    "- [Exploratory Data Analysis](#eda)\n",
    "  - [Statistics](#statistics)\n",
    "  - [Visualizations](#visualizations)\n",
    "- [Performing Your Own Analysis](#eda_continued)\n",
    "- [Conclusions](#conclusions)\n",
    "\n",
    "<a id='intro'></a>\n",
    "## Introduction\n",
    "\n",
    "> **Tip**: Quoted sections like this will provide helpful instructions on how to navigate and use a Jupyter notebook.\n",
    "\n",
    "Over the past decade, bicycle-sharing systems have been growing in number and popularity in cities across the world. Bicycle-sharing systems allow users to rent bicycles for short trips, typically 30 minutes or less. Thanks to the rise in information technologies, it is easy for a user of the system to access a dock within the system to unlock or return bicycles. These technologies also provide a wealth of data that can be used to explore how these bike-sharing systems are used.\n",
    "\n",
    "In this project, you will perform an exploratory analysis on data provided by [Motivate](https://www.motivateco.com/), a bike-share system provider for many major cities in the United States. You will compare the system usage between three large cities: New York City, Chicago, and Washington, DC. You will also see if there are any differences within each system for those users that are registered, regular users and those users that are short-term, casual users."
   ]
  },
  {
   "cell_type": "markdown",
   "metadata": {},
   "source": [
    "<a id='pose_questions'></a>\n",
    "## Posing Questions\n",
    "\n",
    "Before looking at the bike sharing data, you should start by asking questions you might want to understand about the bike share data. Consider, for example, if you were working for Motivate. What kinds of information would you want to know about in order to make smarter business decisions? If you were a user of the bike-share service, what factors might influence how you would want to use the service?\n",
    "\n",
    "**Question 1**: Write at least two questions related to bike sharing that you think could be answered by data.\n",
    "\n",
    "**Answer**:if i am working for Motivate:\n",
    "            1.which months have the largest number of users?\n",
    "            2.Which day has the largest number of users?\n",
    "            3.How old are the most regular users?\n",
    "            if i am a user of this sevice:\n",
    "            1.which station is the most close for my home, and what is the distance ?\n",
    "\n",
    "> **Tip**: If you double click on this cell, you will see the text change so that all of the formatting is removed. This allows you to edit this block of text. This block of text is written using [Markdown](http://daringfireball.net/projects/markdown/syntax), which is a way to format text using headers, links, italics, and many other options using a plain-text syntax. You will also use Markdown later in the Nanodegree program. Use **Shift** + **Enter** or **Shift** + **Return** to run the cell and show its rendered form."
   ]
  },
  {
   "cell_type": "markdown",
   "metadata": {},
   "source": [
    "<a id='wrangling'></a>\n",
    "## Data Collection and Wrangling\n",
    "\n",
    "Now it's time to collect and explore our data. In this project, we will focus on the record of individual trips taken in 2016 from our selected cities: New York City, Chicago, and Washington, DC. Each of these cities has a page where we can freely download the trip data.:\n",
    "\n",
    "- New York City (Citi Bike): [Link](https://www.citibikenyc.com/system-data)\n",
    "- Chicago (Divvy): [Link](https://www.divvybikes.com/system-data)\n",
    "- Washington, DC (Capital Bikeshare): [Link](https://www.capitalbikeshare.com/system-data)\n",
    "\n",
    "If you visit these pages, you will notice that each city has a different way of delivering its data. Chicago updates with new data twice a year, Washington DC is quarterly, and New York City is monthly. **However, you do not need to download the data yourself.** The data has already been collected for you in the `/data/` folder of the project files. While the original data for 2016 is spread among multiple files for each city, the files in the `/data/` folder collect all of the trip data for the year into one file per city. Some data wrangling of inconsistencies in timestamp format within each city has already been performed for you. In addition, a random 2% sample of the original data is taken to make the exploration more manageable. \n",
    "\n",
    "**Question 2**: However, there is still a lot of data for us to investigate, so it's a good idea to start off by looking at one entry from each of the cities we're going to analyze. Run the first code cell below to load some packages and functions that you'll be using in your analysis. Then, complete the second code cell to print out the first trip recorded from each of the cities (the second line of each data file).\n",
    "\n",
    "> **Tip**: You can run a code cell like you formatted Markdown cells above by clicking on the cell and using the keyboard shortcut **Shift** + **Enter** or **Shift** + **Return**. Alternatively, a code cell can be executed using the **Play** button in the toolbar after selecting it. While the cell is running, you will see an asterisk in the message to the left of the cell, i.e. `In [*]:`. The asterisk will change into a number to show that execution has completed, e.g. `In [1]`. If there is output, it will show up as `Out [1]:`, with an appropriate number to match the \"In\" number."
   ]
  },
  {
   "cell_type": "code",
   "execution_count": 12,
   "metadata": {},
   "outputs": [
    {
     "ename": "SyntaxError",
     "evalue": "invalid syntax (<ipython-input-12-3618d4f33ef9>, line 6)",
     "output_type": "error",
     "traceback": [
      "\u001b[0;36m  File \u001b[0;32m\"<ipython-input-12-3618d4f33ef9>\"\u001b[0;36m, line \u001b[0;32m6\u001b[0m\n\u001b[0;31m    $ sudo pip3 install PTable\u001b[0m\n\u001b[0m    ^\u001b[0m\n\u001b[0;31mSyntaxError\u001b[0m\u001b[0;31m:\u001b[0m invalid syntax\n"
     ]
    }
   ],
   "source": [
    "## import all necessary packages and functions.\n",
    "import csv # read and write csv files\n",
    "from datetime import datetime # operations to parse dates\n",
    "from pprint import pprint # use to print data structures like dictionaries in\n",
    "                          # a nicer way than the base print function."
   ]
  },
  {
   "cell_type": "code",
   "execution_count": 2,
   "metadata": {
    "scrolled": true
   },
   "outputs": [
    {
     "name": "stdout",
     "output_type": "stream",
     "text": [
      "\n",
      "City: NYC\n",
      "OrderedDict([('tripduration', '839'),\n",
      "             ('starttime', '1/1/2016 00:09:55'),\n",
      "             ('stoptime', '1/1/2016 00:23:54'),\n",
      "             ('start station id', '532'),\n",
      "             ('start station name', 'S 5 Pl & S 4 St'),\n",
      "             ('start station latitude', '40.710451'),\n",
      "             ('start station longitude', '-73.960876'),\n",
      "             ('end station id', '401'),\n",
      "             ('end station name', 'Allen St & Rivington St'),\n",
      "             ('end station latitude', '40.72019576'),\n",
      "             ('end station longitude', '-73.98997825'),\n",
      "             ('bikeid', '17109'),\n",
      "             ('usertype', 'Customer'),\n",
      "             ('birth year', ''),\n",
      "             ('gender', '0')])\n",
      "\n",
      "City: Chicago\n",
      "OrderedDict([('trip_id', '9080545'),\n",
      "             ('starttime', '3/31/2016 23:30'),\n",
      "             ('stoptime', '3/31/2016 23:46'),\n",
      "             ('bikeid', '2295'),\n",
      "             ('tripduration', '926'),\n",
      "             ('from_station_id', '156'),\n",
      "             ('from_station_name', 'Clark St & Wellington Ave'),\n",
      "             ('to_station_id', '166'),\n",
      "             ('to_station_name', 'Ashland Ave & Wrightwood Ave'),\n",
      "             ('usertype', 'Subscriber'),\n",
      "             ('gender', 'Male'),\n",
      "             ('birthyear', '1990')])\n",
      "\n",
      "City: Washington\n",
      "OrderedDict([('Duration (ms)', '427387'),\n",
      "             ('Start date', '3/31/2016 22:57'),\n",
      "             ('End date', '3/31/2016 23:04'),\n",
      "             ('Start station number', '31602'),\n",
      "             ('Start station', 'Park Rd & Holmead Pl NW'),\n",
      "             ('End station number', '31207'),\n",
      "             ('End station', 'Georgia Ave and Fairmont St NW'),\n",
      "             ('Bike number', 'W20842'),\n",
      "             ('Member Type', 'Registered')])\n"
     ]
    }
   ],
   "source": [
    "def print_first_point(filename):\n",
    "    \"\"\"\n",
    "    This function prints and returns the first data point (second row) from\n",
    "    a csv file that includes a header row.\n",
    "    \"\"\"\n",
    "    # print city name for reference\n",
    "    city = filename.split('-')[0].split('/')[-1]\n",
    "    print('\\nCity: {}'.format(city))\n",
    "    \n",
    "    with open(filename, 'r') as f_in:\n",
    "        ## TODO: Use the csv library to set up a DictReader object. ##\n",
    "        ## see https://docs.python.org/3/library/csv.html           ##\n",
    "        trip_reader = csv.DictReader(f_in)\n",
    "        \n",
    "        ## TODO: Use a function on the DictReader object to read the     ##\n",
    "        ## first trip from the data file and store it in a variable.     ##\n",
    "        ## see https://docs.python.org/3/library/csv.html#reader-objects ##\n",
    "        first_trip =next(trip_reader)\n",
    "        \n",
    "        ## TODO: Use the pprint library to print the first trip. ##\n",
    "        ## see https://docs.python.org/3/library/pprint.html     ##\n",
    "        pprint(first_trip)\n",
    "        \n",
    "    # output city name and first trip for later testing\n",
    "    return (city, first_trip)\n",
    "\n",
    "# list of files for each city\n",
    "data_files = ['./data/NYC-CitiBike-2016.csv',\n",
    "              './data/Chicago-Divvy-2016.csv',\n",
    "              './data/Washington-CapitalBikeshare-2016.csv',]\n",
    "\n",
    "# print the first trip from each file, store in dictionary\n",
    "example_trips = {}\n",
    "for data_file in data_files:\n",
    "    city, first_trip = print_first_point(data_file)\n",
    "    example_trips[city] = first_trip"
   ]
  },
  {
   "cell_type": "markdown",
   "metadata": {},
   "source": [
    "If everything has been filled out correctly, you should see below the printout of each city name (which has been parsed from the data file name) that the first trip has been parsed in the form of a dictionary. When you set up a `DictReader` object, the first row of the data file is normally interpreted as column names. Every other row in the data file will use those column names as keys, as a dictionary is generated for each row.\n",
    "\n",
    "This will be useful since we can refer to quantities by an easily-understandable label instead of just a numeric index. For example, if we have a trip stored in the variable `row`, then we would rather get the trip duration from `row['duration']` instead of `row[0]`.\n",
    "\n",
    "<a id='condensing'></a>\n",
    "### Condensing the Trip Data\n",
    "\n",
    "It should also be observable from the above printout that each city provides different information. Even where the information is the same, the column names and formats are sometimes different. To make things as simple as possible when we get to the actual exploration, we should trim and clean the data. Cleaning the data makes sure that the data formats across the cities are consistent, while trimming focuses only on the parts of the data we are most interested in to make the exploration easier to work with.\n",
    "\n",
    "You will generate new data files with five values of interest for each trip: trip duration, starting month, starting hour, day of the week, and user type. Each of these may require additional wrangling depending on the city:\n",
    "\n",
    "- **Duration**: This has been given to us in seconds (New York, Chicago) or milliseconds (Washington). A more natural unit of analysis will be if all the trip durations are given in terms of minutes.\n",
    "- **Month**, **Hour**, **Day of Week**: Ridership volume is likely to change based on the season, time of day, and whether it is a weekday or weekend. Use the start time of the trip to obtain these values. The New York City data includes the seconds in their timestamps, while Washington and Chicago do not. The [`datetime`](https://docs.python.org/3/library/datetime.html) package will be very useful here to make the needed conversions.\n",
    "- **User Type**: It is possible that users who are subscribed to a bike-share system will have different patterns of use compared to users who only have temporary passes. Washington divides its users into two types: 'Registered' for users with annual, monthly, and other longer-term subscriptions, and 'Casual', for users with 24-hour, 3-day, and other short-term passes. The New York and Chicago data uses 'Subscriber' and 'Customer' for these groups, respectively. For consistency, you will convert the Washington labels to match the other two.\n",
    "\n",
    "\n",
    "**Question 3a**: Complete the helper functions in the code cells below to address each of the cleaning tasks described above."
   ]
  },
  {
   "cell_type": "code",
   "execution_count": 3,
   "metadata": {},
   "outputs": [],
   "source": [
    "def duration_in_mins(datum, city):\n",
    "    \"\"\"\n",
    "    Takes as input a dictionary containing info about a single trip (datum) and\n",
    "    its origin city (city) and returns the trip duration in units of minutes.\n",
    "    \n",
    "    Remember that Washington is in terms of milliseconds while Chicago and NYC\n",
    "    are in terms of seconds. \n",
    "    \n",
    "    HINT: The csv module reads in all of the data as strings, including numeric\n",
    "    values. You will need a function to convert the strings into an appropriate\n",
    "    numeric type when making your transformations.\n",
    "    see https://docs.python.org/3/library/functions.html\n",
    "    \"\"\"\n",
    "    \n",
    "    # YOUR CODE HERE\n",
    "    if city=='Washington':\n",
    "        duration = float(datum['Duration (ms)'] )/ (1000*60)\n",
    "    if city=='NYC' or city=='Chicago':\n",
    "        duration = float(datum['tripduration']) / 60\n",
    "    \n",
    "    return duration\n",
    "\n",
    "\n",
    "# Some tests to check that your code works. There should be no output if all of\n",
    "# the assertions pass. The `example_trips` dictionary was obtained from when\n",
    "# you printed the first trip from each of the original data files.\n",
    "tests = {'NYC': 13.9833,\n",
    "         'Chicago': 15.4333,\n",
    "         'Washington': 7.1231}\n",
    "\n",
    "for city in tests:\n",
    "    assert abs(duration_in_mins(example_trips[city], city) - tests[city]) < .001"
   ]
  },
  {
   "cell_type": "code",
   "execution_count": 4,
   "metadata": {},
   "outputs": [],
   "source": [
    "def time_of_trip(datum, city):\n",
    "    \"\"\"\n",
    "    Takes as input a dictionary containing info about a single trip (datum) and\n",
    "    its origin city (city) and returns the month, hour, and day of the week in\n",
    "    which the trip was made.\n",
    "    \n",
    "    Remember that NYC includes seconds, while Washington and Chicago do not.\n",
    "    \n",
    "    HINT: You should use the datetime module to parse the original date\n",
    "    strings into a format that is useful for extracting the desired information.\n",
    "    see https://docs.python.org/3/library/datetime.html#strftime-and-strptime-behavior\n",
    "    \"\"\"\n",
    "    \n",
    "    # YOUR CODE HERE\n",
    "    if city=='NYC' :\n",
    "        formatted_time= datetime.strptime(datum['starttime'],'%m/%d/%Y %H:%M:%S')\n",
    "        month=int(datetime.strftime(formatted_time,'%m'))\n",
    "        hour=int(datetime.strftime(formatted_time,'%H'))\n",
    "        day_of_week=datetime.strftime(formatted_time,'%A')\n",
    "    if city=='Washington':\n",
    "        formatted_time= datetime.strptime(datum['Start date'],'%m/%d/%Y %H:%M')\n",
    "        month=int(datetime.strftime(formatted_time,'%m'))\n",
    "        hour=int(datetime.strftime(formatted_time,'%H'))\n",
    "        day_of_week=datetime.strftime(formatted_time,'%A')\n",
    "     \n",
    "    if city=='Chicago':\n",
    "        formatted_time= datetime.strptime(datum['starttime'],'%m/%d/%Y %H:%M')\n",
    "        month=int(datetime.strftime(formatted_time,'%m'))\n",
    "        hour=int(datetime.strftime(formatted_time,'%H'))\n",
    "        day_of_week=datetime.strftime(formatted_time,'%A')\n",
    "        \n",
    "   \n",
    "    return (month, hour, day_of_week)\n",
    "\n",
    "\n",
    "# Some tests to check that your code works. There should be no output if all of\n",
    "# the assertions pass. The `example_trips` dictionary was obtained from when\n",
    "# you printed the first trip from each of the original data files.\n",
    "tests = {'NYC': (1, 0, 'Friday'),\n",
    "         'Chicago': (3, 23, 'Thursday'),\n",
    "         'Washington': (3, 22, 'Thursday')}\n",
    "\n",
    "for city in tests:\n",
    "    assert time_of_trip(example_trips[city], city) == tests[city]\n",
    "    "
   ]
  },
  {
   "cell_type": "code",
   "execution_count": 5,
   "metadata": {},
   "outputs": [],
   "source": [
    "def type_of_user(datum, city):\n",
    "    \"\"\"\n",
    "    Takes as input a dictionary containing info about a single trip (datum) and\n",
    "    its origin city (city) and returns the type of system user that made the\n",
    "    trip.\n",
    "    \n",
    "    Remember that Washington has different category names compared to Chicago\n",
    "    and NYC. \n",
    "    \"\"\"\n",
    "    \n",
    "    # YOUR CODE HERE\n",
    "    if city == 'Washington':\n",
    "        if datum['Member Type']=='Registered':\n",
    "            user_type ='Subscriber'\n",
    "        else:\n",
    "            user_type ='Customer'\n",
    "    \n",
    "    \n",
    "    else: \n",
    "        user_type=datum['usertype']\n",
    "    return user_type\n",
    "\n",
    "\n",
    "# Some tests to check that your code works. There should be no output if all of\n",
    "# the assertions pass. The `example_trips` dictionary was obtained from when\n",
    "# you printed the first trip from each of the original data files.\n",
    "tests = {'NYC': 'Customer',\n",
    "         'Chicago': 'Subscriber',\n",
    "         'Washington': 'Subscriber'}\n",
    "\n",
    "for city in tests:\n",
    "    assert  type_of_user(example_trips[city], city) == tests[city]"
   ]
  },
  {
   "cell_type": "markdown",
   "metadata": {},
   "source": [
    "**Question 3b**: Now, use the helper functions you wrote above to create a condensed data file for each city consisting only of the data fields indicated above. In the `/examples/` folder, you will see an example datafile from the [Bay Area Bike Share](http://www.bayareabikeshare.com/open-data) before and after conversion. Make sure that your output is formatted to be consistent with the example file."
   ]
  },
  {
   "cell_type": "code",
   "execution_count": 6,
   "metadata": {},
   "outputs": [],
   "source": [
    "def condense_data(in_file, out_file, city):\n",
    "    \"\"\"\n",
    "    This function takes full data from the specified input file\n",
    "    and writes the condensed data to a specified output file. The city\n",
    "    argument determines how the input file will be parsed.\n",
    "    \n",
    "    HINT: See the cell below to see how the arguments are structured!\n",
    "    \"\"\"\n",
    "    \n",
    "    with open(out_file, 'w') as f_out, open(in_file, 'r') as f_in:\n",
    "        # set up csv DictWriter object - writer requires column names for the\n",
    "        # first row as the \"fieldnames\" argument\n",
    "        out_colnames = ['duration', 'month', 'hour', 'day_of_week', 'user_type']        \n",
    "        trip_writer = csv.DictWriter(f_out, fieldnames = out_colnames)\n",
    "        trip_writer.writeheader()\n",
    "        \n",
    "        ## TODO: set up csv DictReader object ##\n",
    "        trip_reader = csv.DictReader(f_in)\n",
    "\n",
    "        # collect data from and process each row\n",
    "        for row in trip_reader:\n",
    "            # set up a dictionary to hold the values for the cleaned and trimmed\n",
    "            # data point\n",
    "            new_point = {}\n",
    "\n",
    "            ## TODO: use the helper functions to get the cleaned data from  ##\n",
    "            ## the original data dictionaries.                              ##\n",
    "            ## Note that the keys for the new_point dictionary should match ##\n",
    "            ## the column names set in the DictWriter object above.         ##\n",
    "            new_point['duration']=duration_in_mins(row, city)\n",
    "            new_point['month'],new_point['hour'],new_point['day_of_week']=time_of_trip(row, city)\n",
    "            new_point['user_type']=type_of_user(row, city)\n",
    "\n",
    "            ## TODO: write the processed information to the output file.     ##\n",
    "            ## see https://docs.python.org/3/library/csv.html#writer-objects ##\n",
    "            trip_writer.writerow(new_point)\n",
    "            \n",
    "            "
   ]
  },
  {
   "cell_type": "code",
   "execution_count": 7,
   "metadata": {},
   "outputs": [
    {
     "name": "stdout",
     "output_type": "stream",
     "text": [
      "\n",
      "City: Washington\n",
      "OrderedDict([('duration', '7.123116666666666'),\n",
      "             ('month', '3'),\n",
      "             ('hour', '22'),\n",
      "             ('day_of_week', 'Thursday'),\n",
      "             ('user_type', 'Subscriber')])\n",
      "\n",
      "City: Chicago\n",
      "OrderedDict([('duration', '15.433333333333334'),\n",
      "             ('month', '3'),\n",
      "             ('hour', '23'),\n",
      "             ('day_of_week', 'Thursday'),\n",
      "             ('user_type', 'Subscriber')])\n",
      "\n",
      "City: NYC\n",
      "OrderedDict([('duration', '13.983333333333333'),\n",
      "             ('month', '1'),\n",
      "             ('hour', '0'),\n",
      "             ('day_of_week', 'Friday'),\n",
      "             ('user_type', 'Customer')])\n"
     ]
    }
   ],
   "source": [
    "# Run this cell to check your work\n",
    "city_info = {'Washington': {'in_file': './data/Washington-CapitalBikeshare-2016.csv',\n",
    "                            'out_file': './data/Washington-2016-Summary.csv'},\n",
    "             'Chicago': {'in_file': './data/Chicago-Divvy-2016.csv',\n",
    "                         'out_file': './data/Chicago-2016-Summary.csv'},\n",
    "             'NYC': {'in_file': './data/NYC-CitiBike-2016.csv',\n",
    "                     'out_file': './data/NYC-2016-Summary.csv'}}\n",
    "\n",
    "for city, filenames in city_info.items():\n",
    "    condense_data(filenames['in_file'], filenames['out_file'], city)\n",
    "    print_first_point(filenames['out_file'])"
   ]
  },
  {
   "cell_type": "markdown",
   "metadata": {},
   "source": [
    "> **Tip**: If you save a jupyter Notebook, the output from running code blocks will also be saved. However, the state of your workspace will be reset once a new session is started. Make sure that you run all of the necessary code blocks from your previous session to reestablish variables and functions before picking up where you last left off.\n",
    "\n",
    "<a id='eda'></a>\n",
    "## Exploratory Data Analysis\n",
    "\n",
    "Now that you have the data collected and wrangled, you're ready to start exploring the data. In this section you will write some code to compute descriptive statistics from the data. You will also be introduced to the `matplotlib` library to create some basic histograms of the data.\n",
    "\n",
    "<a id='statistics'></a>\n",
    "### Statistics\n",
    "\n",
    "First, let's compute some basic counts. The first cell below contains a function that uses the csv module to iterate through a provided data file, returning the number of trips made by subscribers and customers. The second cell runs this function on the example Bay Area data in the `/examples/` folder. Modify the cells to answer the question below.\n",
    "\n",
    "**Question 4a**: Which city has the highest number of trips? Which city has the highest proportion of trips made by subscribers? Which city has the highest proportion of trips made by short-term customers?\n",
    "\n",
    "**Answer**:As the output of my code below, the city that has the highest number of trips is **NYC** ,and also the city that has the highest proportion of trips made by subscribers is **NYC**,and the city that has the highest proportion of trips made by short-term customers is **Chicago**."
   ]
  },
  {
   "cell_type": "code",
   "execution_count": 8,
   "metadata": {},
   "outputs": [],
   "source": [
    "def number_of_trips(filename):\n",
    "    \"\"\"\n",
    "    This function reads in a file with trip data and reports the number of\n",
    "    trips made by subscribers, customers, and total overall.\n",
    "    \"\"\"\n",
    "    with open(filename, 'r') as f_in:\n",
    "        # set up csv reader object\n",
    "        reader = csv.DictReader(f_in)\n",
    "        \n",
    "        # initialize count variables\n",
    "        n_subscribers = 0\n",
    "        n_customers = 0\n",
    "        \n",
    "        # tally up ride types\n",
    "        for row in reader:\n",
    "            if row['user_type'] == 'Subscriber':\n",
    "                n_subscribers += 1\n",
    "            else:\n",
    "                n_customers += 1\n",
    "        \n",
    "        ## compute total number of rides##\n",
    "        n_total = n_subscribers + n_customers\n",
    "        \n",
    "       \n",
    "        # return tallies as a tuple\n",
    "        return(n_subscribers, n_customers, n_total)"
   ]
  },
  {
   "cell_type": "code",
   "execution_count": 9,
   "metadata": {},
   "outputs": [
    {
     "ename": "ModuleNotFoundError",
     "evalue": "No module named 'prettytable'",
     "output_type": "error",
     "traceback": [
      "\u001b[0;31m---------------------------------------------------------------------------\u001b[0m",
      "\u001b[0;31mModuleNotFoundError\u001b[0m                       Traceback (most recent call last)",
      "\u001b[0;32m<ipython-input-9-030886257092>\u001b[0m in \u001b[0;36m<module>\u001b[0;34m()\u001b[0m\n\u001b[0;32m----> 1\u001b[0;31m \u001b[0;32mfrom\u001b[0m \u001b[0mprettytable\u001b[0m \u001b[0;32mimport\u001b[0m \u001b[0mPrettyTable\u001b[0m\u001b[0;34m\u001b[0m\u001b[0m\n\u001b[0m\u001b[1;32m      2\u001b[0m \u001b[0mx\u001b[0m \u001b[0;34m=\u001b[0m \u001b[0mPrettyTable\u001b[0m\u001b[0;34m(\u001b[0m\u001b[0;34m)\u001b[0m\u001b[0;34m\u001b[0m\u001b[0m\n\u001b[1;32m      3\u001b[0m \u001b[0;34m\u001b[0m\u001b[0m\n\u001b[1;32m      4\u001b[0m \u001b[0;31m## Modify this and the previous cell to answer Question 4a. Remember to run ##\u001b[0m\u001b[0;34m\u001b[0m\u001b[0;34m\u001b[0m\u001b[0m\n\u001b[1;32m      5\u001b[0m \u001b[0;31m## the function on the cleaned data files you created from Question 3.      ##\u001b[0m\u001b[0;34m\u001b[0m\u001b[0;34m\u001b[0m\u001b[0m\n",
      "\u001b[0;31mModuleNotFoundError\u001b[0m: No module named 'prettytable'"
     ]
    }
   ],
   "source": [
    "from prettytable import PrettyTable\n",
    "x = PrettyTable()\n",
    "\n",
    "## Modify this and the previous cell to answer Question 4a. Remember to run ##\n",
    "## the function on the cleaned data files you created from Question 3.      ##\n",
    "\n",
    "##import the itemgetter function from operator module to use it in the key of the max function##\n",
    "from operator import itemgetter\n",
    "\n",
    "data_file = './examples/BayArea-Y3-Summary.csv'\n",
    "print(number_of_trips(data_file))\n",
    "\n",
    "## defining cities_files dictionary to use the value(the condensed data file) of each key(city)##\n",
    "##as an argument for the number_of_trips function to use the return values of this function to help us in answering Q 4a ##\n",
    "cities_files = {'Washington':'./data/Washington-2016-Summary.csv',\n",
    "                'NYC':'./data/NYC-2016-Summary.csv',\n",
    "                'Chicago':'./data/Chicago-2016-Summary.csv'}\n",
    "\n",
    "##set up three dictionaries to hold the number of subscribers,the number ##\n",
    "##of customers,total number of users for each city##\n",
    "p_subscribers={}\n",
    "p_customers={}\n",
    "n_total={}\n",
    "\n",
    "for city in cities_files:\n",
    "    ##the returned values from the number_of_trips function stored in a tuple,##\n",
    "    ##compute the proportion of subscribers and customers##\n",
    "    \n",
    "    p_subscribers[city] = (number_of_trips(cities_files[city])[0] / number_of_trips(cities_files[city])[2]) *100\n",
    "    ## round the proportions to two decimal values##\n",
    "    p_subscribers[city] = '%.2f'%p_subscribers[city]+'%'\n",
    "    \n",
    "    p_customers[city]= (number_of_trips(cities_files[city])[1] /number_of_trips(cities_files[city])[2]) *100\n",
    "    p_customers[city] = '%.2f'%p_customers[city]+'%'\n",
    "    \n",
    "    ##the index number 2 in the tuple has the total number of users ##\n",
    "    n_total[city]= number_of_trips(cities_files[city])[2]\n",
    "\n",
    "##set up a pretty table##\n",
    "x.field_names = [\"City name\", \"Area\", \"Population\", \"Annual Rainfall\"]\n",
    "\n",
    "for city in cities_files:\n",
    "    x.add_row[city,p_subscribers[city],p_customers[city],n_total[city]]\n",
    "    \n",
    "print ('the proportion of subscribers: ',p_subscribers)\n",
    "print ('the proportion of customers:',p_customers)\n",
    "print ('the total number: ',n_total)\n",
    "\n",
    "##calculating the maximum number for each type of user and the total number## \n",
    "##of users across the three cities using the built-in max function##\n",
    "##The method items() returns a list of dict's (key, value) tuple pairs##\n",
    "##itemgetter function return the index number 1 for each tuple ##\n",
    "\n",
    "print('\\n') \n",
    "max_total_city = max(n_total.items(),key=itemgetter(1))[0]\n",
    "print('the city that has the highest number of trips is: ',max_total_city)\n",
    "\n",
    "##the returned value from the max function is a tuple (city,number),adding [0] to get only the name of the city##\n",
    "\n",
    "max_subscribers_city = max(p_subscribers.items(),key=itemgetter(1))[0]\n",
    "print('the city that has the highest proportion of trips made by subscribers is:',max_subscribers_city)\n",
    "\n",
    "max_customers_city = max(p_customers.items(),key=itemgetter(1))[0]\n",
    "print('the city that has the highest proportion of trips made by short-term customers is:',max_customers_city)"
   ]
  },
  {
   "cell_type": "markdown",
   "metadata": {},
   "source": [
    "> **Tip**: In order to add additional cells to a notebook, you can use the \"Insert Cell Above\" and \"Insert Cell Below\" options from the menu bar above. There is also an icon in the toolbar for adding new cells, with additional icons for moving the cells up and down the document. By default, new cells are of the code type; you can also specify the cell type (e.g. Code or Markdown) of selected cells from the Cell menu or the dropdown in the toolbar.\n",
    "\n",
    "Now, you will write your own code to continue investigating properties of the data.\n",
    "\n",
    "**Question 4b**: Bike-share systems are designed for riders to take short trips. Most of the time, users are allowed to take trips of 30 minutes or less with no additional charges, with overage charges made for trips of longer than that duration. What is the average trip length for each city? What proportion of rides made in each city are longer than 30 minutes?\n",
    "\n",
    "**Answer**: the average trip duration in **Washington** is : **18minutes and 54seconds** , \n",
    "            the average trip duration in **NYC** is : **15minutes and 48seconds**, \n",
    "            the average trip duration in **Chicago** is :  **16minutes and 36seconds** .\n",
    "\n",
    "the proportion of trips more than 30 minutes in **Washington** : **10.8%** ,   the proportion of trips more than 30 minutes in **NYC** : **7.3%** , the proportion of trips more than 30 minutes in **Chicago** : **8.3%** ."
   ]
  },
  {
   "cell_type": "code",
   "execution_count": 74,
   "metadata": {
    "scrolled": true
   },
   "outputs": [],
   "source": [
    "## Use this and additional cells to answer Question 4b.                 ##\n",
    "##                                                                      ##\n",
    "## HINT: The csv module reads in all of the data as strings, including  ##\n",
    "## numeric values. You will need a function to convert the strings      ##\n",
    "## into an appropriate numeric type before you aggregate data.          ##\n",
    "## TIP: For the Bay Area example, the average trip length is 14 minutes ##\n",
    "## and 3.5% of trips are longer than 30 minutes.                        ##\n",
    "\n",
    "def avg_trip_length(filename):\n",
    "    \"\"\"\n",
    "    this function is to calculate the average of trip length for each city\n",
    "    \"\"\"\n",
    "    with open(filename,'r') as f_in:\n",
    "        ## set up the csv reader object ##\n",
    "        reader=csv.DictReader(f_in)\n",
    "        \n",
    "        ## initialize a count variable and a sum variable ##\n",
    "        n = 0\n",
    "        sum_durations = 0\n",
    "        ## calculate the sum of the durations and count the number of trips ##\n",
    "        for row in reader:\n",
    "            n += 1\n",
    "            sum_durations  += float(row['duration'])\n",
    "        ## compute the average of the trip duration ##\n",
    "        avg_duration = sum_durations / n\n",
    "        \n",
    "        return avg_duration\n",
    "##define a function to convert duration to be in minutes and seconds##\n",
    "def mins_seconds(x):\n",
    "    ##initialize alist to hold the values minutes and seconds##\n",
    "    list_dur = []\n",
    "    ##round the duration to one decimal vlaue##\n",
    "    duration = \"%.1f\"%x\n",
    "    list_dur = duration.split('.')\n",
    "    minutes = list_dur[0]\n",
    "    seconds = (int(list_dur[1]) / 10) * 60\n",
    "    ##convert seconds to int first to omit the zero decimals then convert to str\n",
    "    seconds = str(int(seconds))\n",
    "    return (minutes,seconds)"
   ]
  },
  {
   "cell_type": "code",
   "execution_count": 75,
   "metadata": {},
   "outputs": [
    {
     "name": "stdout",
     "output_type": "stream",
     "text": [
      "14.038656929671422\n",
      "the average trip duration in Washington is :  18minutes and 54seconds\n",
      "the average trip duration in NYC is :  15minutes and 48seconds\n",
      "the average trip duration in Chicago is :  16minutes and 36seconds\n"
     ]
    }
   ],
   "source": [
    "##test the function above##\n",
    "data_file = './examples/BayArea-Y3-Summary.csv'\n",
    "print(avg_trip_length(data_file))\n",
    "\n",
    "## defining cities_files dictionary to use the value(the condensed data file) of each key(city)##\n",
    "cities_files = {'Washington':'./data/Washington-2016-Summary.csv',\n",
    "                'NYC':'./data/NYC-2016-Summary.csv',\n",
    "                'Chicago':'./data/Chicago-2016-Summary.csv'}\n",
    "\n",
    "\n",
    "\n",
    "##compute the average trip duration for each city ##\n",
    "for city in cities_files:\n",
    "                                        \n",
    "     print ('the average trip duration in {} is : '.format(city),\n",
    "           mins_seconds(avg_trip_length(cities_files[city]))[0]+'minutes and ' +\n",
    "                        mins_seconds(avg_trip_length(cities_files[city]))[1]+'seconds')\n",
    "    \n",
    "                                           \n",
    "    "
   ]
  },
  {
   "cell_type": "code",
   "execution_count": 76,
   "metadata": {},
   "outputs": [],
   "source": [
    "def num_more_30(filename):\n",
    "    \"\"\"\n",
    "    this function is to count number of trips more than 30-minutes duration\n",
    "    ,then the proportion of it\n",
    "    \"\"\"\n",
    "    with open(filename,'r') as f_in:\n",
    "        ##set up a csv reader object##\n",
    "        reader = csv.DictReader(f_in)\n",
    "        \n",
    "        ## initialize count variables\n",
    "        n_more30 = 0\n",
    "        n = 0\n",
    "        \n",
    "        for row in reader:\n",
    "            n += 1\n",
    "            if float(row['duration']) > 30:\n",
    "                n_more30 += 1\n",
    "                \n",
    "        p_more30 = (n_more30 / n) * 100\n",
    "        \n",
    "        ##round the proportion of number of trips more than 30 to one decimal value##\n",
    "        p_more30 = \"%.1f\"%p_more30 +'%'\n",
    "        \n",
    "        return p_more30        \n",
    "                \n",
    "                 \n",
    "    "
   ]
  },
  {
   "cell_type": "code",
   "execution_count": 77,
   "metadata": {},
   "outputs": [
    {
     "name": "stdout",
     "output_type": "stream",
     "text": [
      "the proportion of trips more than 30 minutes for BayArea example is 3.5%\n",
      "the proportion of trips more than 30 minutes in Washington : 10.8%\n",
      "the proportion of trips more than 30 minutes in NYC : 7.3%\n",
      "the proportion of trips more than 30 minutes in Chicago : 8.3%\n"
     ]
    }
   ],
   "source": [
    "data_file = './examples/BayArea-Y3-Summary.csv'\n",
    "print('the proportion of trips more than 30 minutes for BayArea example is',num_more_30(data_file))\n",
    "\n",
    "## defining cities_files dictionary to use the value(the condensed data file) of each key(city)##\n",
    "cities_files = {'Washington':'./data/Washington-2016-Summary.csv',\n",
    "                'NYC':'./data/NYC-2016-Summary.csv',\n",
    "                'Chicago':'./data/Chicago-2016-Summary.csv'}\n",
    "for city in cities_files:\n",
    "    print('the proportion of trips more than 30 minutes in {} : '.format(city) + num_more_30(cities_files[city]))"
   ]
  },
  {
   "cell_type": "markdown",
   "metadata": {},
   "source": []
  },
  {
   "cell_type": "markdown",
   "metadata": {},
   "source": [
    "**Question 4c**: Dig deeper into the question of trip duration based on ridership. Choose one city. Within that city, which type of user takes longer rides on average: Subscribers or Customers?\n",
    "\n",
    "**Answer**: the trip duration for subscribers in NYC is :  13.68 and \n",
    "the trip duration for customers in NYC is :  32.78"
   ]
  },
  {
   "cell_type": "code",
   "execution_count": 78,
   "metadata": {},
   "outputs": [],
   "source": [
    "## Use this and additional cells to answer Question 4c. If you have    ##\n",
    "## not done so yet, consider revising some of your previous code to    ##\n",
    "## make use of functions for reusability.                              ##\n",
    "##                                                                     ##\n",
    "## TIP: For the Bay Area example data, you should find the average     ##\n",
    "## Subscriber trip duration to be 9.5 minutes and the average Customer ##\n",
    "## trip duration to be 54.6 minutes. Do the other cities have this     ##\n",
    "## level of difference?                                                ##\n",
    "def avg_per_user_type(filename):\n",
    "    \"\"\"\n",
    "    this function is to calculate the average of trip length for each city\n",
    "    \"\"\"\n",
    "    with open(filename,'r') as f_in:\n",
    "        ## set up the csv reader object ##\n",
    "        reader=csv.DictReader(f_in)\n",
    "        \n",
    "        ## initialize summation variables ##\n",
    "        sum_dur_s = 0\n",
    "        sum_dur_c = 0\n",
    "        ## calculate the sum of the durations ##\n",
    "        for row in reader:\n",
    "            if row['user_type'] == 'Subscriber':\n",
    "                sum_dur_s  += float(row['duration'])\n",
    "            else:\n",
    "                sum_dur_c += float(row['duration'])\n",
    "                \n",
    "        ## compute the average of the trip duration ##\n",
    "        avg_dur_s = sum_dur_s /  number_of_trips(filename)[0]\n",
    "        avg_dur_c = sum_dur_c /  number_of_trips(filename)[1]\n",
    "        avg_dur_s = '%.2f'%avg_dur_s\n",
    "        avg_dur_c ='%.2f'%avg_dur_c\n",
    "        return (avg_dur_s,avg_dur_c)\n",
    "    \n"
   ]
  },
  {
   "cell_type": "code",
   "execution_count": 79,
   "metadata": {},
   "outputs": [
    {
     "name": "stdout",
     "output_type": "stream",
     "text": [
      "the trip duration for subscribers on average for BayArea example is :  9.51\n",
      "the trip duration for customers on average for BayArea example is :  54.55 \n",
      "\n",
      "the trip duration for subscribers on average in Washington is :  12.53\n",
      "the trip duration for customers on average in Washington is :  41.68 \n",
      "\n",
      "the trip duration for subscribers on average in NYC is :  13.68\n",
      "the trip duration for customers on average in NYC is :  32.78 \n",
      "\n",
      "the trip duration for subscribers on average in Chicago is :  12.07\n",
      "the trip duration for customers on average in Chicago is :  30.98 \n",
      "\n"
     ]
    }
   ],
   "source": [
    "data_file = './examples/BayArea-Y3-Summary.csv'\n",
    "print('the trip duration for subscribers on average for BayArea example is : ',avg_per_user_type(data_file)[0])\n",
    "print('the trip duration for customers on average for BayArea example is : ',avg_per_user_type(data_file)[1],'\\n')\n",
    "\n",
    "cities_files = {'Washington':'./data/Washington-2016-Summary.csv',\n",
    "                'NYC':'./data/NYC-2016-Summary.csv',\n",
    "                'Chicago':'./data/Chicago-2016-Summary.csv'}\n",
    "\n",
    "for city in cities_files:\n",
    "    print('the trip duration for subscribers on average in {} is : '.format(city),avg_per_user_type(cities_files[city])[0])\n",
    "    print('the trip duration for customers on average in {} is : '.format(city),avg_per_user_type(cities_files[city])[1],'\\n')"
   ]
  },
  {
   "cell_type": "markdown",
   "metadata": {},
   "source": [
    "<a id='visualizations'></a>\n",
    "### Visualizations\n",
    "\n",
    "The last set of values that you computed should have pulled up an interesting result. While the mean trip time for Subscribers is well under 30 minutes, the mean trip time for Customers is actually _above_ 30 minutes! It will be interesting for us to look at how the trip times are distributed. In order to do this, a new library will be introduced here, `matplotlib`. Run the cell below to load the library and to generate an example plot."
   ]
  },
  {
   "cell_type": "code",
   "execution_count": 80,
   "metadata": {},
   "outputs": [
    {
     "data": {
      "image/png": "[encoded data removed]",
      "text/plain": [
       "<matplotlib.figure.Figure at 0x7f0110f19780>"
      ]
     },
     "metadata": {},
     "output_type": "display_data"
    }
   ],
   "source": [
    "# load library\n",
    "import matplotlib.pyplot as plt\n",
    "\n",
    "# this is a 'magic word' that allows for plots to be displayed\n",
    "# inline with the notebook. If you want to know more, see:\n",
    "# http://ipython.readthedocs.io/en/stable/interactive/magics.html\n",
    "%matplotlib inline \n",
    "\n",
    "# example histogram, data taken from bay area sample\n",
    "data = [ 7.65,  8.92,  7.42,  5.50, 16.17,  4.20,  8.98,  9.62, 11.48, 14.33,\n",
    "        19.02, 21.53,  3.90,  7.97,  2.62,  2.67,  3.08, 14.40, 12.90,  7.83,\n",
    "        25.12,  8.30,  4.93, 12.43, 10.60,  6.17, 10.88,  4.78, 15.15,  3.53,\n",
    "         9.43, 13.32, 11.72,  9.85,  5.22, 15.10,  3.95,  3.17,  8.78,  1.88,\n",
    "         4.55, 12.68, 12.38,  9.78,  7.63,  6.45, 17.38, 11.90, 11.52,  8.63,]\n",
    "plt.hist(data)\n",
    "plt.title('Distribution of Trip Durations')\n",
    "plt.xlabel('Duration (m)')\n",
    "plt.show()"
   ]
  },
  {
   "cell_type": "markdown",
   "metadata": {},
   "source": [
    "In the above cell, we collected fifty trip times in a list, and passed this list as the first argument to the `.hist()` function. This function performs the computations and creates plotting objects for generating a histogram, but the plot is actually not rendered until the `.show()` function is executed. The `.title()` and `.xlabel()` functions provide some labeling for plot context.\n",
    "\n",
    "You will now use these functions to create a histogram of the trip times for the city you selected in question 4c. Don't separate the Subscribers and Customers for now: just collect all of the trip times and plot them."
   ]
  },
  {
   "cell_type": "code",
   "execution_count": 81,
   "metadata": {},
   "outputs": [],
   "source": [
    "## Use this and additional cells to collect all of the trip times as a list ##\n",
    "## and then use pyplot functions to generate a histogram of trip times.     ##\n",
    "\n",
    "\n",
    "def plot_times(filename,city):\n",
    "    \"\"\"\n",
    "    this function is to polt the trip duration times\n",
    "    \"\"\" \n",
    "    list_times = []\n",
    "    with open(filename,'r') as f_in:\n",
    "        ## set up the csv reader object ##\n",
    "        reader1=csv.DictReader(f_in)\n",
    "        for row in reader1:\n",
    "            list_times.append(float(row['duration']))\n",
    "            \n",
    "    plt.hist(list_times)\n",
    "    plt.title('Distribution of Trip Durations in {}'.format(city))\n",
    "    plt.xlabel('Duration (m)')\n",
    "    plt.show() \n",
    "    \n",
    "        \n"
   ]
  },
  {
   "cell_type": "code",
   "execution_count": 82,
   "metadata": {},
   "outputs": [
    {
     "data": {
      "image/png": "[encoded data removed]",
      "text/plain": [
       "<matplotlib.figure.Figure at 0x7f0113244a20>"
      ]
     },
     "metadata": {},
     "output_type": "display_data"
    }
   ],
   "source": [
    "plot_times('./data/NYC-2016-Summary.csv','NYC')"
   ]
  },
  {
   "cell_type": "markdown",
   "metadata": {},
   "source": [
    "If you followed the use of the `.hist()` and `.show()` functions exactly like in the example, you're probably looking at a plot that's completely unexpected. The plot consists of one extremely tall bar on the left, maybe a very short second bar, and a whole lot of empty space in the center and right. Take a look at the duration values on the x-axis. This suggests that there are some highly infrequent outliers in the data. Instead of reprocessing the data, you will use additional parameters with the `.hist()` function to limit the range of data that is plotted. Documentation for the function can be found [[here]](https://matplotlib.org/devdocs/api/_as_gen/matplotlib.pyplot.hist.html#matplotlib.pyplot.hist).\n",
    "\n",
    "**Question 5**: Use the parameters of the `.hist()` function to plot the distribution of trip times for the Subscribers in your selected city. Do the same thing for only the Customers. Add limits to the plots so that only trips of duration less than 75 minutes are plotted. As a bonus, set the plots up so that bars are in five-minute wide intervals. For each group, where is the peak of each distribution? How would you describe the shape of each distribution?\n",
    "\n",
    "**Answer**: the peak of each distribution is in the left side of it,The \"tail\" of the histogram is pulled toward higher positive numbers, or to the right, for the subscribers shape,the peak is in (5-10)m ,and for the customers the peak is for (20-25)m, as i know this is the right-skewed distribution  "
   ]
  },
  {
   "cell_type": "code",
   "execution_count": 83,
   "metadata": {},
   "outputs": [],
   "source": [
    "## Use this and additional cells to answer Question 5. ##\n",
    "\n",
    "def plot_per_user_type(filename,city):\n",
    "    \"\"\"\n",
    "    this function is to polt the trip duration times\n",
    "    \"\"\" \n",
    "    list_subscriber = []\n",
    "    list_customer = []\n",
    "    \n",
    "    bins = []\n",
    "    n=0\n",
    "    while n !=80:\n",
    "        bins.append(n)\n",
    "        n += 5\n",
    "        \n",
    "    with open(filename,'r') as f_in:\n",
    "        ## set up the csv reader object ##\n",
    "        reader=csv.DictReader(f_in)\n",
    "        for row in reader:\n",
    "            if row['user_type'] == 'Subscriber':\n",
    "                list_subscriber.append(float(row['duration']))\n",
    "            else:\n",
    "                list_customer.append(float(row['duration']))\n",
    "                \n",
    "                \n",
    "            \n",
    "    plt.hist(list_subscriber,bins)\n",
    "    plt.title('Distribution of Trip Durations in {} for Subscibers'.format(city))\n",
    "    plt.xlabel('Duration (m)')\n",
    "    plt.show()\n",
    "    plt.hist(list_customer,bins)\n",
    "    plt.title('Distribution of Trip Durations in {} for Customers'.format(city))\n",
    "    plt.xlabel('Duration (m)')\n",
    "    plt.show()"
   ]
  },
  {
   "cell_type": "code",
   "execution_count": 84,
   "metadata": {},
   "outputs": [
    {
     "data": {
      "image/png": "[encoded data removed]",
      "text/plain": [
       "<matplotlib.figure.Figure at 0x7f01106a5b70>"
      ]
     },
     "metadata": {},
     "output_type": "display_data"
    },
    {
     "data": {
      "image/png": "[encoded data removed]",
      "text/plain": [
       "<matplotlib.figure.Figure at 0x7f01106e7898>"
      ]
     },
     "metadata": {},
     "output_type": "display_data"
    }
   ],
   "source": [
    "plot_per_user_type('./data/NYC-2016-Summary.csv','NYC')"
   ]
  },
  {
   "cell_type": "markdown",
   "metadata": {
    "collapsed": true
   },
   "source": [
    "<a id='eda_continued'></a>\n",
    "## Performing Your Own Analysis\n",
    "\n",
    "So far, you've performed an initial exploration into the data available. You have compared the relative volume of trips made between three U.S. cities and the ratio of trips made by Subscribers and Customers. For one of these cities, you have investigated differences between Subscribers and Customers in terms of how long a typical trip lasts. Now it is your turn to continue the exploration in a direction that you choose. Here are a few suggestions for questions to explore:\n",
    "\n",
    "- How does ridership differ by month or season? Which month / season has the highest ridership? Does the ratio of Subscriber trips to Customer trips change depending on the month or season?\n",
    "- Is the pattern of ridership different on the weekends versus weekdays? On what days are Subscribers most likely to use the system? What about Customers? Does the average duration of rides change depending on the day of the week?\n",
    "- During what time of day is the system used the most? Is there a difference in usage patterns for Subscribers and Customers?\n",
    "\n",
    "If any of the questions you posed in your answer to question 1 align with the bullet points above, this is a good opportunity to investigate one of them. As part of your investigation, you will need to create a visualization. If you want to create something other than a histogram, then you might want to consult the [Pyplot documentation](https://matplotlib.org/devdocs/api/pyplot_summary.html). In particular, if you are plotting values across a categorical variable (e.g. city, user type), a bar chart will be useful. The [documentation page for `.bar()`](https://matplotlib.org/devdocs/api/_as_gen/matplotlib.pyplot.bar.html#matplotlib.pyplot.bar) includes links at the bottom of the page with examples for you to build off of for your own use.\n",
    "\n",
    "**Question 6**: Continue the investigation by exploring another question that could be answered by the data available. Document the question you want to explore below. Your investigation should involve at least two variables and should compare at least two groups. You should also use at least one visualization as part of your explorations.\n",
    "\n",
    "**Answer**: I will investigate this questions:\n",
    "Is the pattern of ridership different on the weekends versus weekdays? On what days are Subscribers most likely to use the system? What about Customers? Does the average duration of rides change depending on the day of the week?\n",
    "\n",
    "1) Defining a **wends_wdays()** function to compute the number of trips on average in weekends and weekdays for all users  , subscribers and customers. \n",
    "\n",
    "2) plotting a bar plot for the three cities to explore the number of trips in each city in weekends vs weekdays,by defining a **plot_cities()** function : \n",
    "from the plot ,**the number of trips in weekends are less than the number of trips in weekdays for all cities**.\n",
    "\n",
    "3)plotting a bar plot for exploring which days are subscribers and customers most likely to use the system by defining a**plot_days()** function for that , and that is clear from the plot :**Subscribers are most likely to use the system in the weekdays but Customers are most likely to use the system in the weekends**.\n",
    "\n",
    "4)plotting a bar plot for exploring the changing in the average duration of trips depending on the day of the week,by defining a **plot_dur_day()** function for that, from the plot, **the average duration of rides in weekends is longer than the average duration of rides in weekdays**.   \n",
    " "
   ]
  },
  {
   "cell_type": "code",
   "execution_count": 85,
   "metadata": {},
   "outputs": [],
   "source": [
    "## Use this and additional cells to continue to explore the dataset. ##\n",
    "## Once you have performed your exploration, document your findings  ##\n",
    "## in the Markdown cell above.                                       ##\n",
    "import numpy as np\n",
    "import matplotlib.pyplot as plt\n",
    "def wends_wdays(filename):\n",
    "    \"\"\"\n",
    "    compute the number of trips in weekdays and weekends used by both subscribers and\n",
    "    customers and, then the total number of trips in general in weekends and weekdays,\n",
    "    then compute the number of trips on average for all variables by division by 2 for\n",
    "    weekends and division by 5 for weekdays to be fair in our comparasion\n",
    "    \n",
    "    \"\"\"\n",
    "    weekends_sub = 0\n",
    "    weekdays_sub = 0\n",
    "    weekends_cus = 0\n",
    "    weekdays_cus = 0\n",
    "    weekends_total = 0\n",
    "    weekdays_total = 0\n",
    "    \n",
    "    with open(filename,'r') as file_in:\n",
    "        reader_trip = csv.DictReader(file_in)\n",
    "        \n",
    "        for row in reader_trip:\n",
    "            if row['user_type'] == 'Subscriber': \n",
    "                if row['day_of_week'] == 'Sunday' or row['day_of_week'] == 'Saturday':\n",
    "                    weekends_sub += 1\n",
    "                else:\n",
    "                    weekdays_sub += 1\n",
    "            else:\n",
    "                 if row['user_type'] == 'Customer':\n",
    "                    if row['day_of_week'] == 'Sunday' or row['day_of_week'] == 'Saturday':\n",
    "                        weekends_cus += 1\n",
    "                    else:\n",
    "                        weekdays_cus += 1\n",
    "                \n",
    "        weekends_total = weekends_sub + weekends_cus\n",
    "        weekdays_total = weekdays_sub + weekdays_cus\n",
    "        \n",
    "        ## compute the average number of trips per day according to the number of days##\n",
    "        ## in weekends and in weekdays##\n",
    "        weekends_sub = int(weekends_sub/2)\n",
    "        weekdays_sub = int(weekdays_sub/5)\n",
    "        weekends_cus = int(weekends_cus/2)\n",
    "        weekdays_cus = int(weekdays_cus/5)\n",
    "        weekends_total = int(weekends_total/2)\n",
    "        weekdays_total = int(weekdays_total/5)\n",
    "        \n",
    "        \n",
    "        return ( weekends_total,weekdays_total,weekends_sub,weekdays_sub,weekends_cus,weekdays_cus)\n",
    "    \n",
    "\n",
    "\n",
    "\n"
   ]
  },
  {
   "cell_type": "code",
   "execution_count": 86,
   "metadata": {},
   "outputs": [
    {
     "name": "stdout",
     "output_type": "stream",
     "text": [
      "the total number of trips in the weekends in Washington is :  8563\n",
      "the total number of trips in the weekdays in Washington is :  9839\n",
      "the number of trips are used by subscribers in weekends Washington is:  5420\n",
      "the number of trips are used by subscribers in weekdays Washington is:  8182\n",
      "the number of trips are used by customers in weekends Washington is:  3143\n",
      "the number of trips are used by customers in weekdays Washington is:  1657\n",
      "\n",
      "\n",
      "the total number of trips in the weekends in NYC is :  32212\n",
      "the total number of trips in the weekdays in NYC is :  42331\n",
      "the number of trips are used by subscribers in weekends NYC is:  25290\n",
      "the number of trips are used by subscribers in weekdays NYC is:  39063\n",
      "the number of trips are used by customers in weekends NYC is:  6922\n",
      "the number of trips are used by customers in weekdays NYC is:  3268\n",
      "\n",
      "\n",
      "the total number of trips in the weekends in Chicago is :  9790\n",
      "the total number of trips in the weekdays in Chicago is :  10510\n",
      "the number of trips are used by subscribers in weekends Chicago is:  5524\n",
      "the number of trips are used by subscribers in weekdays Chicago is:  8786\n",
      "the number of trips are used by customers in weekends Chicago is:  4266\n",
      "the number of trips are used by customers in weekdays Chicago is:  1723\n",
      "\n",
      "\n"
     ]
    }
   ],
   "source": [
    "## calling the above function by passing the three cities files as arguments to analyze the results##\n",
    "\n",
    "cities_files = {'Washington':'./data/Washington-2016-Summary.csv',\n",
    "                'NYC':'./data/NYC-2016-Summary.csv',\n",
    "                'Chicago':'./data/Chicago-2016-Summary.csv'}\n",
    "for city in cities_files:\n",
    "    print('the total number of trips in the weekends in {} is : '.format(city),wends_wdays(cities_files[city])[0])\n",
    "    print('the total number of trips in the weekdays in {} is : '.format(city),wends_wdays(cities_files[city])[1])\n",
    "    print('the number of trips are used by subscribers in weekends {} is: '.format(city),wends_wdays(cities_files[city])[2])\n",
    "    print('the number of trips are used by subscribers in weekdays {} is: '.format(city),wends_wdays(cities_files[city])[3])\n",
    "    print('the number of trips are used by customers in weekends {} is: '.format(city),wends_wdays(cities_files[city])[4])\n",
    "    print('the number of trips are used by customers in weekdays {} is: '.format(city),wends_wdays(cities_files[city])[5])\n",
    "    print('\\n')"
   ]
  },
  {
   "cell_type": "code",
   "execution_count": 87,
   "metadata": {},
   "outputs": [
    {
     "data": {
      "image/png": "[encoded data removed]",
      "text/plain": [
       "<matplotlib.figure.Figure at 0x7f0110acf748>"
      ]
     },
     "metadata": {},
     "output_type": "display_data"
    }
   ],
   "source": [
    "##plot the data above to be more clear by using the bar plot type##\n",
    "\n",
    "def plot_cities():\n",
    "    \n",
    "    list_weekends = [] ## for appending the values of  number of trips in weekends for each city##\n",
    "    list_weekdays = [] ## for appending the values of number of trips in weekdays for each city##\n",
    "    \n",
    "    cities_files = {'Washington':'./data/Washington-2016-Summary.csv',\n",
    "                'NYC':'./data/NYC-2016-Summary.csv',\n",
    "                'Chicago':'./data/Chicago-2016-Summary.csv'}\n",
    "    for city in cities_files:\n",
    "        list_weekends.append(wends_wdays(cities_files[city])[0])\n",
    "        list_weekdays.append(wends_wdays(cities_files[city])[1])\n",
    "   \n",
    "    p1 = plt.bar(np.arange(3),list_weekends)\n",
    "    p2 = plt.bar(np.arange(3),list_weekdays,bottom=list_weekends)\n",
    "    \n",
    "    plt.ylabel('the number of trips')\n",
    "    plt.title('the number of trips in weekends vs weekdays in each city on average')\n",
    "    plt.xticks(np.arange(3),('Washington','NYC','Chicago'))\n",
    "    plt.legend((p1[0],p2[0]),('weekends','weekdays'))\n",
    "    \n",
    "    plt.show()\n",
    "## calling the function to see the plot\n",
    "plot_cities()    "
   ]
  },
  {
   "cell_type": "code",
   "execution_count": 88,
   "metadata": {},
   "outputs": [
    {
     "name": "stdout",
     "output_type": "stream",
     "text": [
      "{'Saturday': {'subscribers': 26126, 'customers': 7227}, 'Sunday': {'subscribers': 24454, 'customers': 6898}, 'Monday': {'subscribers': 35623, 'customers': 3717}, 'Thursday': {'subscribers': 41197, 'customers': 3133}, 'Wednesday': {'subscribers': 41403, 'customers': 3226}, 'Tuesday': {'subscribers': 39487, 'customers': 2918}, 'Friday': {'subscribers': 37606, 'customers': 3783}}\n"
     ]
    },
    {
     "data": {
      "image/png": "[encoded data removed]",
      "text/plain": [
       "<matplotlib.figure.Figure at 0x7f0111204438>"
      ]
     },
     "metadata": {},
     "output_type": "display_data"
    }
   ],
   "source": [
    "def plot_days(filename,city):\n",
    "    \n",
    "    y_subscribers= []## a list for appending number of trips per day of week used by subscribers##\n",
    "    y_customers =[]  ## a list for appending number of trips per day of week used by customers##   \n",
    "    \n",
    "    ## set up a dictionary for holding the number of subscribers and customers per day of week##\n",
    "    dic_days = {'Saturday':{'subscribers':0,'customers':0} ,'Sunday':{'subscribers':0,'customers':0},\n",
    "                'Monday':{'subscribers':0,'customers':0},'Thursday':{'subscribers':0,'customers':0},\n",
    "                'Wednesday':{'subscribers':0,'customers':0},'Tuesday':{'subscribers':0,'customers':0},\n",
    "                'Friday':{'subscribers':0,'customers':0}} \n",
    "    \n",
    "    x = np.arange(7)\n",
    "\n",
    "    with open(filename,'r') as f_in:\n",
    "        reader_trip = csv.DictReader(f_in)\n",
    "        \n",
    "        ## count number of trips used by subscribers and customers \n",
    "        for row in reader_trip:\n",
    "            if row['user_type']=='Subscriber':\n",
    "                dic_days[row['day_of_week']]['subscribers'] += 1\n",
    "            else:\n",
    "                dic_days[row['day_of_week']]['customers'] += 1\n",
    "    \n",
    "    ## to see the data in dic_days print it##            \n",
    "    print(dic_days) \n",
    "   \n",
    "    for day in dic_days:\n",
    "        y_subscribers.append(dic_days[day]['subscribers'])\n",
    "        y_customers.append(dic_days[day]['customers'])\n",
    "    \n",
    "    p1 = plt.bar(x,y_subscribers,width = .5)\n",
    "    p2 = plt.bar(x,y_customers,width=.5,bottom=y_subscribers)\n",
    "    plt.xticks(x,('Saturday','Sunday','Monday','Thursday','Wednesday','Tuesday','Friday'))\n",
    "    plt.ylabel('number of trips')\n",
    "    plt.xlabel('days of week')\n",
    "    plt.title('the number of trips per day of week in {} for subscribers vs customers'.format(city))\n",
    "    plt.legend((p1[0],p2[0]),('subscribers','customers'))\n",
    "    plt.show()\n",
    "\n",
    "## calling the function using NYC city condensed data file ##   \n",
    "plot_days( './data/NYC-2016-Summary.csv','NYC')    \n",
    "        "
   ]
  },
  {
   "cell_type": "code",
   "execution_count": 89,
   "metadata": {},
   "outputs": [
    {
     "name": "stdout",
     "output_type": "stream",
     "text": [
      "dict_items([('Saturday', {'num_trips': 33353, 'sum_duration': 626901.5833333371, 'avg_duration': 18.8}), ('Sunday', {'num_trips': 31352, 'sum_duration': 589086.3333333292, 'avg_duration': 18.79}), ('Monday', {'num_trips': 39340, 'sum_duration': 593087.9666666627, 'avg_duration': 15.08}), ('Thursday', {'num_trips': 44330, 'sum_duration': 645132.3499999949, 'avg_duration': 14.55}), ('Wednesday', {'num_trips': 44629, 'sum_duration': 653204.4166666637, 'avg_duration': 14.64}), ('Tuesday', {'num_trips': 42405, 'sum_duration': 606265.6166666662, 'avg_duration': 14.3}), ('Friday', {'num_trips': 41389, 'sum_duration': 663215.8499999953, 'avg_duration': 16.02})])\n"
     ]
    },
    {
     "data": {
      "image/png": "[encoded data removed]",
      "text/plain": [
       "<matplotlib.figure.Figure at 0x7f0110aaf240>"
      ]
     },
     "metadata": {},
     "output_type": "display_data"
    }
   ],
   "source": [
    "def plot_dur_days(filename,city):\n",
    "    \n",
    "    y_avg_duration = [] ## for holding the average duration of trips per day ##\n",
    "    dic_days = {'Saturday':{'num_trips':0,'sum_duration':0} ,\n",
    "                'Sunday':{'num_trips':0,'sum_duration':0},\n",
    "                'Monday':{'num_trips':0,'sum_duration':0},\n",
    "                'Thursday':{'num_trips':0,'sum_duration':0},\n",
    "                'Wednesday':{'num_trips':0,'sum_duration':0},\n",
    "                'Tuesday':{'num_trips':0,'sum_duration':0},\n",
    "                'Friday':{'num_trips':0,'sum_duration':0}} \n",
    "    x = np.arange(7)\n",
    "\n",
    "    with open(filename,'r') as f_in:\n",
    "        reader_trip = csv.DictReader(f_in)\n",
    "        \n",
    "        ##counting number of trips and summing the trips duration for each day of week ##\n",
    "        ## for computing the average duration for each day of week ##\n",
    "        for row in reader_trip:\n",
    "            dic_days[row['day_of_week']]['num_trips'] += 1\n",
    "            dic_days[row['day_of_week']]['sum_duration'] += float(row['duration'])\n",
    "   \n",
    "    ## compute the average duration for each day of week and store valuse in a list ##\n",
    "    for day in dic_days:\n",
    "        dic_days[day]['avg_duration'] = dic_days[day]['sum_duration'] / dic_days[day]['num_trips']\n",
    "        dic_days[day]['avg_duration']='%.2f'%dic_days[day]['avg_duration']\n",
    "        dic_days[day]['avg_duration']=float(dic_days[day]['avg_duration'])\n",
    "        y_avg_duration.append(dic_days[day]['avg_duration'])\n",
    "    \n",
    "    ## to see the data in dic_days, print it ##\n",
    "    print(dic_days.items())\n",
    "   \n",
    "    ## set up the bar plot\n",
    "    plt.bar(x,y_avg_duration,width = .5)\n",
    "    plt.xticks(x,('Saturday','Sunday','Monday','Thursday','Wednesday','Tuesday','Friday'))\n",
    "    plt.ylabel('the average duration')\n",
    "    plt.xlabel('days of week')\n",
    "    plt.title('the average duration for trips per day of week in {}'.format(city))\n",
    "    plt.show()\n",
    "    \n",
    "## calling the function using NYC city condensed data file ##    \n",
    "plot_dur_days( './data/NYC-2016-Summary.csv','NYC') "
   ]
  },
  {
   "cell_type": "markdown",
   "metadata": {},
   "source": []
  },
  {
   "cell_type": "markdown",
   "metadata": {},
   "source": []
  },
  {
   "cell_type": "markdown",
   "metadata": {},
   "source": []
  },
  {
   "cell_type": "markdown",
   "metadata": {},
   "source": [
    "### My curiosity in exploring the age of users\t\n",
    "\n",
    "I have analyzed the age of users according to dividing the ages to many periods, it is clear from the plot below that the most users are in range (20-30) years old, it seems that the age is increasing ,the number of trips is decreasing. i think knowing the ages of users is so important especially for online marketing in targeting audiences and other things sure.\n",
    "the function below is for Chicago only because only it has a birthyear data\n"
   ]
  },
  {
   "cell_type": "code",
   "execution_count": 90,
   "metadata": {},
   "outputs": [
    {
     "data": {
      "image/png": "[encoded data removed]",
      "text/plain": [
       "<matplotlib.figure.Figure at 0x7f0110a3e4e0>"
      ]
     },
     "metadata": {},
     "output_type": "display_data"
    }
   ],
   "source": [
    "def plot_birth(filename):\n",
    "    \"\"\"\n",
    "    this function is to explore and plot the age of users \n",
    "    \"\"\"\n",
    "    list_birth = [] ## for holding the ages of users ##\n",
    "    dic_birth = {'less than 20':0 , '20-30':0, '30-40':0, '40-50':0,'50-60':0,'more than 60':0}\n",
    "   \n",
    "   \n",
    "    x = np.arange(6)\n",
    "   \n",
    "    with open(filename,'r') as f_in:\n",
    "        trip_reader = csv.DictReader(f_in)\n",
    "        \n",
    "        for row in trip_reader:\n",
    "            if len(row['birthyear']) == 4:\n",
    "                age = 2016 - int(row['birthyear'])\n",
    "                list_birth.append(age)\n",
    "            ## some users don't put their year birth , i put instead a 0 value ##    \n",
    "            else:\n",
    "                list_birth.append(0)\n",
    "                \n",
    "    \n",
    "           \n",
    "        for age in list_birth:\n",
    "            if 0< age < 20:\n",
    "                dic_birth['less than 20'] += 1\n",
    "            elif age < 30:\n",
    "                dic_birth['20-30'] += 1\n",
    "            elif age < 40:\n",
    "                dic_birth['30-40'] += 1\n",
    "            elif age < 50:\n",
    "                dic_birth['40-50'] += 1\n",
    "            elif age < 60:\n",
    "                dic_birth['50-60'] += 1\n",
    "            else:\n",
    "                dic_birth['more than 60'] += 1\n",
    "                \n",
    "      \n",
    "                \n",
    "    plt.bar(x,dic_birth.values())\n",
    "    plt.xticks(x,('less than 20','20-30','30-40','40-50','50-60','more than 60'))\n",
    "    plt.title('the distribution of the age of users ')\n",
    "    plt.xlabel('the range of ages')\n",
    "    plt.ylabel('the number of trips')\n",
    "    plt.show\n",
    "    \n",
    "## this function for Chicago because only it has a yearbirth data  ##             \n",
    "plot_birth('./data/Chicago-Divvy-2016.csv')            \n"
   ]
  },
  {
   "cell_type": "code",
   "execution_count": 91,
   "metadata": {},
   "outputs": [
    {
     "name": "stdout",
     "output_type": "stream",
     "text": [
      "thanks Udacity for this interesting project\n"
     ]
    }
   ],
   "source": [
    "print('thanks Udacity for this interesting project')"
   ]
  },
  {
   "cell_type": "markdown",
   "metadata": {},
   "source": [
    "<a id='conclusions'></a>\n",
    "## Conclusions\n",
    "\n",
    "Congratulations on completing the project! This is only a sampling of the data analysis process: from generating questions, wrangling the data, and to exploring the data. Normally, at this point in the data analysis process, you might want to draw conclusions about the data by performing a statistical test or fitting the data to a model for making predictions. There are also a lot of potential analyses that could be performed on the data which are not possible with only the data provided. For example, detailed location data has not been investigated. Where are the most commonly used docks? What are the most common routes? As another example, weather has potential to have a large impact on daily ridership. How much is ridership impacted when there is rain or snow? Are subscribers or customers affected more by changes in weather?\n",
    "\n",
    "**Question 7**: Putting the bike share data aside, think of a topic or field of interest where you would like to be able to apply the techniques of data science. What would you like to be able to learn from your chosen subject?\n",
    "\n",
    "**Answer**: I think of an online shopping website has a lot of items for customers, and many channels for online marketing like facebook,twitter,instagram,adwords and others, the owner of the website wants to know which items the customers buy and which items are not bought, and which channels drive the most traffic of the website and which channels should be invest in, and other things to investigate to improve this online center.\n",
    "\n",
    "the owner has a lot of data about the number of users enter the website per day from each channel, and number of buyers from each channel everday, we can clean the data by collecting number of users and number of buyers  per month for each channel, then calculate the proportion of buying process made by all users for each channel monthly then plot the data to see which channel is the best in driving traffic, which one has a high quality traffic, and which one the owner should invest in more .\n",
    "\n",
    "> **Tip**: If we want to share the results of our analysis with others, we aren't limited to giving them a copy of the jupyter Notebook (.ipynb) file. We can also export the Notebook output in a form that can be opened even for those without Python installed. From the **File** menu in the upper left, go to the **Download as** submenu. You can then choose a different format that can be viewed more generally, such as HTML (.html) or\n",
    "PDF (.pdf). You may need additional packages or software to perform these exports.\n",
    "\n",
    "> If you are working on this project via the Project Notebook page in the classroom, you can also submit this project directly from the workspace. **Before you do that**, you should save an HTML copy of the completed project to the workspace by running the code cell below. If it worked correctly, the output code should be a 0, and if you click on the jupyter icon in the upper left, you should see your .html document in the workspace directory. Alternatively, you can download the .html copy of your report following the steps in the previous paragraph, then _upload_ the report to the directory (by clicking the jupyter icon).\n",
    "\n",
    "> Either way, once you've gotten the .html report in your workspace, you can complete your submission by clicking on the \"Submit Project\" button to the lower-right hand side of the workspace."
   ]
  },
  {
   "cell_type": "markdown",
   "metadata": {},
   "source": [
    "## resources:\n",
    "\n",
    "1) www.stackoverflow.com\n",
    "\n",
    "2)https://docs.python.org/2/library/functions.html#max\n",
    "\n",
    "3)http://www.statisticshowto.com/probability-and-statistics/skewed-distribution/\n",
    "\n",
    "4)https://docs.scipy.org/doc/numpy/reference/generated/numpy.arange.html#numpy.arange\n",
    "\n",
    "5)https://docs.python.org/3/library/operator.html\n",
    "\n",
    "6)https://matplotlib.org/devdocs/gallery/lines_bars_and_markers/bar_stacked.html#sphx-glr-gallery-lines-bars-and-markers-bar-stacked-py\n",
    "\n"
   ]
  },
  {
   "cell_type": "code",
   "execution_count": 4,
   "metadata": {},
   "outputs": [
    {
     "data": {
      "text/plain": [
       "0"
      ]
     },
     "execution_count": 4,
     "metadata": {},
     "output_type": "execute_result"
    }
   ],
   "source": [
    "from subprocess import call\n",
    "call(['python', '-m', 'nbconvert', 'analyzing Bike_Share_System.ipynb'])"
   ]
  },
  {
   "cell_type": "code",
   "execution_count": null,
   "metadata": {},
   "outputs": [],
   "source": []
  }
 ],
 "metadata": {
  "anaconda-cloud": {},
  "kernelspec": {
   "display_name": "Python 3",
   "language": "python",
   "name": "python3"
  },
  "language_info": {
   "codemirror_mode": {
    "name": "ipython",
    "version": 3
   },
   "file_extension": ".py",
   "mimetype": "text/x-python",
   "name": "python",
   "nbconvert_exporter": "python",
   "pygments_lexer": "ipython3",
   "version": "3.6.3"
  }
 },
 "nbformat": 4,
 "nbformat_minor": 1
}
